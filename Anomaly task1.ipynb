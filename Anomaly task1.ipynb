{
 "cells": [
  {
   "cell_type": "markdown",
   "id": "2ff03a21",
   "metadata": {},
   "source": [
    "# Task -1 Anomaly detection\n",
    "## Student ID1: 314878877\n",
    "## Student ID2: 207029786",
    "#### Github link: https://github.com/yuvalbm3/Anomaly-Detaction.git"
   ]
  },
  {
   "cell_type": "code",
   "execution_count": 18,
   "id": "69952e9d",
   "metadata": {},
   "outputs": [],
   "source": [
    "import pandas as pd\n",
    "import numpy as np\n",
    "import matplotlib.pyplot as plt\n",
    "import seaborn as sns\n",
    "from scipy.stats import norm\n",
    "from sklearn.preprocessing import StandardScaler\n",
    "from scipy import stats\n",
    "import warnings\n",
    "from sklearn.metrics import confusion_matrix, ConfusionMatrixDisplay, accuracy_score, recall_score"
   ]
  },
  {
   "cell_type": "code",
   "execution_count": 2,
   "id": "b6b31cd0",
   "metadata": {},
   "outputs": [
    {
     "data": {
      "text/html": [
       "<div>\n",
       "<style scoped>\n",
       "    .dataframe tbody tr th:only-of-type {\n",
       "        vertical-align: middle;\n",
       "    }\n",
       "\n",
       "    .dataframe tbody tr th {\n",
       "        vertical-align: top;\n",
       "    }\n",
       "\n",
       "    .dataframe thead th {\n",
       "        text-align: right;\n",
       "    }\n",
       "</style>\n",
       "<table border=\"1\" class=\"dataframe\">\n",
       "  <thead>\n",
       "    <tr style=\"text-align: right;\">\n",
       "      <th></th>\n",
       "      <th>record ID</th>\n",
       "      <th>duration_</th>\n",
       "      <th>src_bytes</th>\n",
       "      <th>dst_bytes</th>\n",
       "    </tr>\n",
       "  </thead>\n",
       "  <tbody>\n",
       "    <tr>\n",
       "      <th>0</th>\n",
       "      <td>1</td>\n",
       "      <td>0</td>\n",
       "      <td>236</td>\n",
       "      <td>1228</td>\n",
       "    </tr>\n",
       "    <tr>\n",
       "      <th>1</th>\n",
       "      <td>2</td>\n",
       "      <td>0</td>\n",
       "      <td>239</td>\n",
       "      <td>486</td>\n",
       "    </tr>\n",
       "    <tr>\n",
       "      <th>2</th>\n",
       "      <td>3</td>\n",
       "      <td>0</td>\n",
       "      <td>234</td>\n",
       "      <td>1364</td>\n",
       "    </tr>\n",
       "    <tr>\n",
       "      <th>3</th>\n",
       "      <td>4</td>\n",
       "      <td>0</td>\n",
       "      <td>239</td>\n",
       "      <td>1295</td>\n",
       "    </tr>\n",
       "    <tr>\n",
       "      <th>4</th>\n",
       "      <td>5</td>\n",
       "      <td>0</td>\n",
       "      <td>181</td>\n",
       "      <td>5450</td>\n",
       "    </tr>\n",
       "  </tbody>\n",
       "</table>\n",
       "</div>"
      ],
      "text/plain": [
       "   record ID  duration_  src_bytes  dst_bytes\n",
       "0          1          0        236       1228\n",
       "1          2          0        239        486\n",
       "2          3          0        234       1364\n",
       "3          4          0        239       1295\n",
       "4          5          0        181       5450"
      ]
     },
     "execution_count": 2,
     "metadata": {},
     "output_type": "execute_result"
    }
   ],
   "source": [
    "f_path = \"conn_attack.csv\"\n",
    "df = pd.read_csv(f_path,names=[\"record ID\",\"duration_\", \"src_bytes\",\"dst_bytes\"], header=None)\n",
    "df.head()"
   ]
  },
  {
   "cell_type": "markdown",
   "id": "52105fcd",
   "metadata": {},
   "source": [
    "## Data Exploration"
   ]
  },
  {
   "cell_type": "markdown",
   "id": "346b1e2f",
   "metadata": {},
   "source": [
    "### Below we can see the description of the csv file we loaded, we can see the min/ max values of the features etc."
   ]
  },
  {
   "cell_type": "code",
   "execution_count": 3,
   "id": "d1bfc917",
   "metadata": {},
   "outputs": [
    {
     "data": {
      "text/html": [
       "<div>\n",
       "<style scoped>\n",
       "    .dataframe tbody tr th:only-of-type {\n",
       "        vertical-align: middle;\n",
       "    }\n",
       "\n",
       "    .dataframe tbody tr th {\n",
       "        vertical-align: top;\n",
       "    }\n",
       "\n",
       "    .dataframe thead th {\n",
       "        text-align: right;\n",
       "    }\n",
       "</style>\n",
       "<table border=\"1\" class=\"dataframe\">\n",
       "  <thead>\n",
       "    <tr style=\"text-align: right;\">\n",
       "      <th></th>\n",
       "      <th>record ID</th>\n",
       "      <th>duration_</th>\n",
       "      <th>src_bytes</th>\n",
       "      <th>dst_bytes</th>\n",
       "    </tr>\n",
       "  </thead>\n",
       "  <tbody>\n",
       "    <tr>\n",
       "      <th>count</th>\n",
       "      <td>256670.000000</td>\n",
       "      <td>256670.000000</td>\n",
       "      <td>256670.000000</td>\n",
       "      <td>2.566700e+05</td>\n",
       "    </tr>\n",
       "    <tr>\n",
       "      <th>mean</th>\n",
       "      <td>128335.500000</td>\n",
       "      <td>0.640936</td>\n",
       "      <td>474.247898</td>\n",
       "      <td>4.473533e+03</td>\n",
       "    </tr>\n",
       "    <tr>\n",
       "      <th>std</th>\n",
       "      <td>74094.391134</td>\n",
       "      <td>15.627170</td>\n",
       "      <td>3391.106084</td>\n",
       "      <td>2.080903e+04</td>\n",
       "    </tr>\n",
       "    <tr>\n",
       "      <th>min</th>\n",
       "      <td>1.000000</td>\n",
       "      <td>0.000000</td>\n",
       "      <td>0.000000</td>\n",
       "      <td>0.000000e+00</td>\n",
       "    </tr>\n",
       "    <tr>\n",
       "      <th>25%</th>\n",
       "      <td>64168.250000</td>\n",
       "      <td>0.000000</td>\n",
       "      <td>217.000000</td>\n",
       "      <td>6.600000e+02</td>\n",
       "    </tr>\n",
       "    <tr>\n",
       "      <th>50%</th>\n",
       "      <td>128335.500000</td>\n",
       "      <td>0.000000</td>\n",
       "      <td>249.000000</td>\n",
       "      <td>1.661000e+03</td>\n",
       "    </tr>\n",
       "    <tr>\n",
       "      <th>75%</th>\n",
       "      <td>192502.750000</td>\n",
       "      <td>0.000000</td>\n",
       "      <td>306.000000</td>\n",
       "      <td>4.341000e+03</td>\n",
       "    </tr>\n",
       "    <tr>\n",
       "      <th>max</th>\n",
       "      <td>256670.000000</td>\n",
       "      <td>3289.000000</td>\n",
       "      <td>54540.000000</td>\n",
       "      <td>7.068759e+06</td>\n",
       "    </tr>\n",
       "  </tbody>\n",
       "</table>\n",
       "</div>"
      ],
      "text/plain": [
       "           record ID      duration_      src_bytes     dst_bytes\n",
       "count  256670.000000  256670.000000  256670.000000  2.566700e+05\n",
       "mean   128335.500000       0.640936     474.247898  4.473533e+03\n",
       "std     74094.391134      15.627170    3391.106084  2.080903e+04\n",
       "min         1.000000       0.000000       0.000000  0.000000e+00\n",
       "25%     64168.250000       0.000000     217.000000  6.600000e+02\n",
       "50%    128335.500000       0.000000     249.000000  1.661000e+03\n",
       "75%    192502.750000       0.000000     306.000000  4.341000e+03\n",
       "max    256670.000000    3289.000000   54540.000000  7.068759e+06"
      ]
     },
     "execution_count": 3,
     "metadata": {},
     "output_type": "execute_result"
    }
   ],
   "source": [
    "df.describe()"
   ]
  },
  {
   "cell_type": "code",
   "execution_count": 4,
   "id": "530730a9",
   "metadata": {},
   "outputs": [
    {
     "data": {
      "image/png": "[encoded data removed]",
      "text/plain": [
       "<Figure size 640x480 with 1 Axes>"
      ]
     },
     "metadata": {},
     "output_type": "display_data"
    }
   ],
   "source": [
    "var = 'duration_'\n",
    "data = pd.concat([df['src_bytes'], df[var]], axis=1)\n",
    "data.plot.scatter(x=var, y='src_bytes', ylim=(0,100000)); # do not `assume here any thing this is just examples"
   ]
  },
  {
   "cell_type": "code",
   "execution_count": 5,
   "id": "8410dcae",
   "metadata": {},
   "outputs": [
    {
     "data": {
      "image/png": "[encoded data removed]",
      "text/plain": [
       "<Figure size 640x480 with 1 Axes>"
      ]
     },
     "metadata": {},
     "output_type": "display_data"
    }
   ],
   "source": [
    "var = 'duration_'\n",
    "data = pd.concat([df['dst_bytes'], df[var]], axis=1)\n",
    "data.plot.scatter(x=var, y='dst_bytes', ylim=(0,1000000)); # do not `assume here any thing this is just examples"
   ]
  },
  {
   "cell_type": "markdown",
   "id": "2edf425c",
   "metadata": {},
   "source": [
    "### Correlation is a statistical term which in common usage refers to how close two variables are to having a linear relationship with each other."
   ]
  },
  {
   "cell_type": "code",
   "execution_count": 6,
   "id": "f5bed82b",
   "metadata": {},
   "outputs": [
    {
     "data": {
      "text/html": [
       "<div>\n",
       "<style scoped>\n",
       "    .dataframe tbody tr th:only-of-type {\n",
       "        vertical-align: middle;\n",
       "    }\n",
       "\n",
       "    .dataframe tbody tr th {\n",
       "        vertical-align: top;\n",
       "    }\n",
       "\n",
       "    .dataframe thead th {\n",
       "        text-align: right;\n",
       "    }\n",
       "</style>\n",
       "<table border=\"1\" class=\"dataframe\">\n",
       "  <thead>\n",
       "    <tr style=\"text-align: right;\">\n",
       "      <th></th>\n",
       "      <th>record ID</th>\n",
       "      <th>duration_</th>\n",
       "      <th>src_bytes</th>\n",
       "      <th>dst_bytes</th>\n",
       "    </tr>\n",
       "  </thead>\n",
       "  <tbody>\n",
       "    <tr>\n",
       "      <th>record ID</th>\n",
       "      <td>1.000000</td>\n",
       "      <td>0.027244</td>\n",
       "      <td>0.019209</td>\n",
       "      <td>-0.002970</td>\n",
       "    </tr>\n",
       "    <tr>\n",
       "      <th>duration_</th>\n",
       "      <td>0.027244</td>\n",
       "      <td>1.000000</td>\n",
       "      <td>-0.001714</td>\n",
       "      <td>-0.005791</td>\n",
       "    </tr>\n",
       "    <tr>\n",
       "      <th>src_bytes</th>\n",
       "      <td>0.019209</td>\n",
       "      <td>-0.001714</td>\n",
       "      <td>1.000000</td>\n",
       "      <td>0.010770</td>\n",
       "    </tr>\n",
       "    <tr>\n",
       "      <th>dst_bytes</th>\n",
       "      <td>-0.002970</td>\n",
       "      <td>-0.005791</td>\n",
       "      <td>0.010770</td>\n",
       "      <td>1.000000</td>\n",
       "    </tr>\n",
       "  </tbody>\n",
       "</table>\n",
       "</div>"
      ],
      "text/plain": [
       "           record ID  duration_  src_bytes  dst_bytes\n",
       "record ID   1.000000   0.027244   0.019209  -0.002970\n",
       "duration_   0.027244   1.000000  -0.001714  -0.005791\n",
       "src_bytes   0.019209  -0.001714   1.000000   0.010770\n",
       "dst_bytes  -0.002970  -0.005791   0.010770   1.000000"
      ]
     },
     "execution_count": 6,
     "metadata": {},
     "output_type": "execute_result"
    }
   ],
   "source": [
    "df.corr() "
   ]
  },
  {
   "cell_type": "markdown",
   "id": "ad7c69dd",
   "metadata": {},
   "source": [
    "### As we can see from the graph above the ratio between src_bytes and dst_bytes is 0.010770 and this is the reason we used is in the next formula."
   ]
  },
  {
   "cell_type": "code",
   "execution_count": 13,
   "id": "529ed579",
   "metadata": {},
   "outputs": [
    {
     "data": {
      "image/png": "[encoded data removed]",
      "text/plain": [
       "<Figure size 640x480 with 1 Axes>"
      ]
     },
     "metadata": {},
     "output_type": "display_data"
    }
   ],
   "source": [
    "col={}\n",
    "newdf = pd.DataFrame()\n",
    "duration=df[\"duration_\"].unique()\n",
    "for i in duration:\n",
    "    #temerary dictionary\n",
    "    tem_dic={}\n",
    "    dur_raw=df[(df[\"duration_\"]==int(i))]\n",
    "    tem_dic['sub']=abs(dur_raw['dst_bytes']*0.010770-(dur_raw['src_bytes']))\n",
    "    tem_dic['ID']=dur_raw['record ID']\n",
    "    med=tem_dic['sub'].median()\n",
    "    tem_dic['sub']=abs(tem_dic['sub']-med)\n",
    "    df_tem_dic = pd.DataFrame(data=tem_dic)\n",
    "    col[i]=((new_df[(new_df['sub'])>med/0.010770]['ID']))\n",
    "    if i == 14:\n",
    "        example_14 = pd.concat([df_tem_dic['sub'], df_tem_dic['ID']], axis=1)\n",
    "        example_14.plot.scatter(x='ID', y='sub', ylim=(0,60000));\n",
    "col_list=list(col.values())\n",
    "df_col_list=pd.DataFrame(data=col_list)\n",
    "anomaly_list=[]\n",
    "pred=[]\n",
    "for i1 in (col_list):\n",
    "    anomaly_list=anomaly_list+(list(i1))\n",
    "# in this loop we orgenize the anomaly we predict in list for the confusion matrix\n",
    "for i in range(1, len(df)):\n",
    "    if (i) in anomaly_list:\n",
    "        pred.append(1)\n",
    "    else:\n",
    "        pred.append(0)"
   ]
  },
  {
   "cell_type": "markdown",
   "id": "e32f6c26",
   "metadata": {},
   "source": [
    "The graph above is an example for anomaly in duration_ 14."
   ]
  },
  {
   "cell_type": "code",
   "execution_count": 14,
   "id": "c8dec581",
   "metadata": {},
   "outputs": [],
   "source": [
    "# we collect the answars from the file we get for the confusion matrix\n",
    "f_path2 = \"conn_attack_anomaly_labels.csv\"\n",
    "df2 = pd.read_csv(f_path2, names=[\"record ID\", \"label\"], header=None)\n",
    "df_label=df2[(df2[\"label\"] == 1)]\n",
    "test = []\n",
    "record_list=(list(df_label['record ID']))\n",
    "for i in range(1, len(df2)):\n",
    "    if (i) in record_list:\n",
    "        test.append(1)\n",
    "    else:\n",
    "        test.append(0)"
   ]
  },
  {
   "cell_type": "markdown",
   "id": "03141220",
   "metadata": {},
   "source": [
    "# Answers to the Questions:\n",
    "1. From the data exploration we've learned that both graph of (dst_bytes/duration_) and (src_bytes/duration_) are distribut in the same way, so it give us a hint to try and make the sub of them, and according to this to get the anomaly of them from the graph of (x = abs(sub(dst_bytes - src_bytes)), y = duration_).\n",
    "<Br>\n",
    "2. The suitable algorithm group for the task is unsupervisied algorithm cause the data is not label, and we use this algorithm group in those cases.\n",
    "<Br>\n",
    "3. A. The approch we try is MAD (median absolute deviation) algorithem. We did it cause this algorithm is unsupervisied algorithm and we had numeric data, so it was easy to calculate the median of the absolute values of all the deviations, and then we get the precsion and recall value and we saw that they were pretty good. \n",
    "<Br>B.We know this algorithm is good accordinf to comparing we had with the results we get that we have only 8 anomaly we didn't get (from 1022) anomalies and it's easy to undersatand that is negligible (less than 1%). Likewise according to the confusion matrix and the precision and recall value as you can see in the next question.\n",
    "<Br>\n",
    "4. Confusion Matrix:"
   ]
  },
  {
   "cell_type": "code",
   "execution_count": 15,
   "id": "bf2b21e8",
   "metadata": {},
   "outputs": [
    {
     "data": {
      "text/html": [
       "<div>\n",
       "<style scoped>\n",
       "    .dataframe tbody tr th:only-of-type {\n",
       "        vertical-align: middle;\n",
       "    }\n",
       "\n",
       "    .dataframe tbody tr th {\n",
       "        vertical-align: top;\n",
       "    }\n",
       "\n",
       "    .dataframe thead th {\n",
       "        text-align: right;\n",
       "    }\n",
       "</style>\n",
       "<table border=\"1\" class=\"dataframe\">\n",
       "  <thead>\n",
       "    <tr style=\"text-align: right;\">\n",
       "      <th></th>\n",
       "      <th>0</th>\n",
       "      <th>1</th>\n",
       "    </tr>\n",
       "  </thead>\n",
       "  <tbody>\n",
       "    <tr>\n",
       "      <th>0</th>\n",
       "      <td>255643</td>\n",
       "      <td>4</td>\n",
       "    </tr>\n",
       "    <tr>\n",
       "      <th>1</th>\n",
       "      <td>8</td>\n",
       "      <td>1014</td>\n",
       "    </tr>\n",
       "  </tbody>\n",
       "</table>\n",
       "</div>"
      ],
      "text/plain": [
       "        0     1\n",
       "0  255643     4\n",
       "1       8  1014"
      ]
     },
     "execution_count": 15,
     "metadata": {},
     "output_type": "execute_result"
    }
   ],
   "source": [
    "# confusion_matrix(test, pred)\n",
    "\n",
    "def plot(test, pred):\n",
    "    labels = [0, 1]\n",
    "    column = \"Predicted condition\"\n",
    "    index = \"Actual condition\"\n",
    "    table = pd.DataFrame(confusion_matrix(test, pred), labels)\n",
    "    return table\n",
    "\n",
    "plot(test, pred)"
   ]
  },
  {
   "cell_type": "code",
   "execution_count": 22,
   "id": "8bb70fbd",
   "metadata": {},
   "outputs": [
    {
     "name": "stdout",
     "output_type": "stream",
     "text": [
      "Accuracy: 0.9999532471782724\n",
      "Recall: 0.9921722113502935\n"
     ]
    }
   ],
   "source": [
    "recall = recall_score(test, pred)\n",
    "accuracy = accuracy_score(test, pred)\n",
    "print(f\"Accuracy: {accuracy}\")\n",
    "print(f\"Recall: {recall}\")"
   ]
  }
 ],
 "metadata": {
  "kernelspec": {
   "display_name": "Python 3 (ipykernel)",
   "language": "python",
   "name": "python3"
  },
  "language_info": {
   "codemirror_mode": {
    "name": "ipython",
    "version": 3
   },
   "file_extension": ".py",
   "mimetype": "text/x-python",
   "name": "python",
   "nbconvert_exporter": "python",
   "pygments_lexer": "ipython3",
   "version": "3.9.13"
  }
 },
 "nbformat": 4,
 "nbformat_minor": 5
}
